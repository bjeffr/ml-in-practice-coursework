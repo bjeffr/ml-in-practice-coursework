{
 "cells": [
  {
   "cell_type": "code",
   "execution_count": 1,
   "metadata": {
    "collapsed": true
   },
   "outputs": [],
   "source": [
    "import pandas as pd\n",
    "import itertools\n",
    "import numpy as np\n",
    "import matplotlib.pyplot as plt\n",
    "from sklearn.model_selection import train_test_split\n",
    "from sklearn.feature_selection import RFECV, RFE\n",
    "from sklearn.model_selection import StratifiedKFold\n",
    "from sklearn.linear_model import LogisticRegression\n",
    "from sklearn.tree import DecisionTreeClassifier\n",
    "from sklearn.ensemble import RandomForestClassifier\n",
    "from sklearn.svm import SVC\n",
    "from sklearn.metrics import accuracy_score, precision_score, recall_score, f1_score, confusion_matrix"
   ]
  },
  {
   "cell_type": "code",
   "execution_count": 2,
   "outputs": [
    {
     "name": "stdout",
     "output_type": "stream",
     "text": [
      "<class 'pandas.core.frame.DataFrame'>\n",
      "RangeIndex: 1577 entries, 0 to 1576\n",
      "Columns: 240 entries, success to accepting_ETC\n",
      "dtypes: float64(10), int64(230)\n",
      "memory usage: 2.9 MB\n"
     ]
    }
   ],
   "source": [
    "df = pd.read_csv('ICO_cleaned_v4.csv')\n",
    "df.info()"
   ],
   "metadata": {
    "collapsed": false,
    "pycharm": {
     "name": "#%%\n"
    }
   }
  },
  {
   "cell_type": "code",
   "execution_count": 3,
   "outputs": [
    {
     "name": "stdout",
     "output_type": "stream",
     "text": [
      "55.2%\n"
     ]
    }
   ],
   "source": [
    "print(f\"{df[df['success'] == 1].shape[0] / df.shape[0]:.1%}\")"
   ],
   "metadata": {
    "collapsed": false,
    "pycharm": {
     "name": "#%%\n"
    }
   }
  },
  {
   "cell_type": "code",
   "execution_count": 4,
   "outputs": [],
   "source": [
    "def plot_confusion_matrix(cm, classes, normalise=False):\n",
    "    if normalise:\n",
    "        cm = cm.astype('float') / cm.sum(axis=1)[:, np.newaxis]\n",
    "\n",
    "    plt.imshow(cm, interpolation='nearest', cmap='Blues')\n",
    "    plt.colorbar()\n",
    "    tick_marks = np.arange(len(classes))\n",
    "    plt.xticks(tick_marks, classes)\n",
    "    plt.yticks(tick_marks, classes)\n",
    "\n",
    "    fmt = '.2f' if normalise else 'd'\n",
    "    thresh = cm.max() / 2.\n",
    "    for i, j in itertools.product(range(cm.shape[0]), range(cm.shape[1])):\n",
    "        plt.text(j, i, format(cm[i, j], fmt), horizontalalignment=\"center\", color=\"white\" if cm[i, j] > thresh else \"black\")\n",
    "\n",
    "    plt.tight_layout()\n",
    "    plt.ylabel('True label')\n",
    "    plt.xlabel('Predicted label')"
   ],
   "metadata": {
    "collapsed": false,
    "pycharm": {
     "name": "#%%\n"
    }
   }
  },
  {
   "cell_type": "code",
   "execution_count": 5,
   "outputs": [
    {
     "name": "stdout",
     "output_type": "stream",
     "text": [
      "72.17%\n",
      "74.77%\n",
      "74.94%\n",
      "74.83%\n"
     ]
    }
   ],
   "source": [
    "acc_scores = np.array([])\n",
    "precision_scores = np.array([])\n",
    "recall_scores = np.array([])\n",
    "f1_scores = np.array([])\n",
    "\n",
    "cv = StratifiedKFold(n_splits=5, shuffle=True, random_state=42)\n",
    "for i_train, i_test in cv.split(df.iloc[:,1:], df.iloc[:,0]):\n",
    "    x_train = df.iloc[i_train,1:]\n",
    "    x_test = df.iloc[i_test,1:]\n",
    "    y_train = df.iloc[i_train,0]\n",
    "    y_test = df.iloc[i_test,0]\n",
    "\n",
    "    lrm = LogisticRegression()\n",
    "    lrm.fit(x_train, y_train)\n",
    "    preds = lrm.predict(x_test)\n",
    "\n",
    "    acc_scores = np.append(acc_scores, accuracy_score(y_test, preds))\n",
    "    precision_scores = np.append(precision_scores, precision_score(y_test, preds))\n",
    "    recall_scores = np.append(recall_scores, recall_score(y_test, preds))\n",
    "    f1_scores = np.append(f1_scores, f1_score(y_test, preds))\n",
    "\n",
    "print(f\"{np.mean(acc_scores):.2%}\")\n",
    "print(f\"{np.mean(precision_scores):.2%}\")\n",
    "print(f\"{np.mean(recall_scores):.2%}\")\n",
    "print(f\"{np.mean(f1_scores):.2%}\")"
   ],
   "metadata": {
    "collapsed": false,
    "pycharm": {
     "name": "#%%\n"
    }
   }
  },
  {
   "cell_type": "code",
   "execution_count": 6,
   "outputs": [
    {
     "data": {
      "text/plain": "<Figure size 432x288 with 2 Axes>",
      "image/png": "[encoded data removed]"
     },
     "metadata": {
      "needs_background": "light"
     },
     "output_type": "display_data"
    }
   ],
   "source": [
    "plot_confusion_matrix(confusion_matrix(y_test, preds), ['failure', 'success'])\n",
    "plt.savefig('cm_lrm.png', dpi=300, bbox_inches = 'tight', pad_inches=0)"
   ],
   "metadata": {
    "collapsed": false,
    "pycharm": {
     "name": "#%%\n"
    }
   }
  },
  {
   "cell_type": "code",
   "execution_count": 7,
   "outputs": [
    {
     "name": "stdout",
     "output_type": "stream",
     "text": [
      "64.49%\n",
      "68.32%\n",
      "67.01%\n",
      "67.55%\n"
     ]
    }
   ],
   "source": [
    "acc_scores = np.array([])\n",
    "precision_scores = np.array([])\n",
    "recall_scores = np.array([])\n",
    "f1_scores = np.array([])\n",
    "\n",
    "cv = StratifiedKFold(n_splits=5, shuffle=True, random_state=42)\n",
    "for i_train, i_test in cv.split(df.iloc[:,1:], df.iloc[:,0]):\n",
    "    x_train = df.iloc[i_train,1:]\n",
    "    x_test = df.iloc[i_test,1:]\n",
    "    y_train = df.iloc[i_train,0]\n",
    "    y_test = df.iloc[i_test,0]\n",
    "\n",
    "    dtm = DecisionTreeClassifier()\n",
    "    dtm.fit(x_train, y_train)\n",
    "    preds = dtm.predict(x_test)\n",
    "\n",
    "    acc_scores = np.append(acc_scores, accuracy_score(y_test, preds))\n",
    "    precision_scores = np.append(precision_scores, precision_score(y_test, preds))\n",
    "    recall_scores = np.append(recall_scores, recall_score(y_test, preds))\n",
    "    f1_scores = np.append(f1_scores, f1_score(y_test, preds))\n",
    "\n",
    "print(f\"{np.mean(acc_scores):.2%}\")\n",
    "print(f\"{np.mean(precision_scores):.2%}\")\n",
    "print(f\"{np.mean(recall_scores):.2%}\")\n",
    "print(f\"{np.mean(f1_scores):.2%}\")"
   ],
   "metadata": {
    "collapsed": false,
    "pycharm": {
     "name": "#%%\n"
    }
   }
  },
  {
   "cell_type": "code",
   "execution_count": 8,
   "outputs": [
    {
     "data": {
      "text/plain": "<Figure size 432x288 with 2 Axes>",
      "image/png": "[encoded data removed]"
     },
     "metadata": {
      "needs_background": "light"
     },
     "output_type": "display_data"
    }
   ],
   "source": [
    "plot_confusion_matrix(confusion_matrix(y_test, preds), ['failure', 'success'])\n",
    "plt.savefig('cm_dtm.png', dpi=300, bbox_inches = 'tight', pad_inches=0)"
   ],
   "metadata": {
    "collapsed": false,
    "pycharm": {
     "name": "#%%\n"
    }
   }
  },
  {
   "cell_type": "code",
   "execution_count": 9,
   "outputs": [
    {
     "name": "stdout",
     "output_type": "stream",
     "text": [
      "73.62%\n",
      "75.61%\n",
      "77.13%\n",
      "76.35%\n"
     ]
    }
   ],
   "source": [
    "acc_scores = np.array([])\n",
    "precision_scores = np.array([])\n",
    "recall_scores = np.array([])\n",
    "f1_scores = np.array([])\n",
    "\n",
    "cv = StratifiedKFold(n_splits=5, shuffle=True, random_state=42)\n",
    "for i_train, i_test in cv.split(df.iloc[:,1:], df.iloc[:,0]):\n",
    "    x_train = df.iloc[i_train,1:]\n",
    "    x_test = df.iloc[i_test,1:]\n",
    "    y_train = df.iloc[i_train,0]\n",
    "    y_test = df.iloc[i_test,0]\n",
    "\n",
    "    rfm = RandomForestClassifier(random_state=42)\n",
    "    rfm.fit(x_train, y_train)\n",
    "    preds = rfm.predict(x_test)\n",
    "\n",
    "    acc_scores = np.append(acc_scores, accuracy_score(y_test, preds))\n",
    "    precision_scores = np.append(precision_scores, precision_score(y_test, preds))\n",
    "    recall_scores = np.append(recall_scores, recall_score(y_test, preds))\n",
    "    f1_scores = np.append(f1_scores, f1_score(y_test, preds))\n",
    "\n",
    "print(f\"{np.mean(acc_scores):.2%}\")\n",
    "print(f\"{np.mean(precision_scores):.2%}\")\n",
    "print(f\"{np.mean(recall_scores):.2%}\")\n",
    "print(f\"{np.mean(f1_scores):.2%}\")"
   ],
   "metadata": {
    "collapsed": false,
    "pycharm": {
     "name": "#%%\n"
    }
   }
  },
  {
   "cell_type": "code",
   "execution_count": 10,
   "outputs": [
    {
     "data": {
      "text/plain": "<Figure size 432x288 with 2 Axes>",
      "image/png": "[encoded data removed]"
     },
     "metadata": {
      "needs_background": "light"
     },
     "output_type": "display_data"
    }
   ],
   "source": [
    "plot_confusion_matrix(confusion_matrix(y_test, preds), ['failure', 'success'])\n",
    "plt.savefig('cm_rfm.png', dpi=300, bbox_inches = 'tight', pad_inches=0)"
   ],
   "metadata": {
    "collapsed": false,
    "pycharm": {
     "name": "#%%\n"
    }
   }
  },
  {
   "cell_type": "code",
   "execution_count": 11,
   "outputs": [
    {
     "name": "stdout",
     "output_type": "stream",
     "text": [
      "71.47%\n",
      "74.40%\n",
      "73.79%\n",
      "74.07%\n"
     ]
    }
   ],
   "source": [
    "acc_scores = np.array([])\n",
    "precision_scores = np.array([])\n",
    "recall_scores = np.array([])\n",
    "f1_scores = np.array([])\n",
    "\n",
    "cv = StratifiedKFold(n_splits=5, shuffle=True, random_state=42)\n",
    "for i_train, i_test in cv.split(df.iloc[:,1:], df.iloc[:,0]):\n",
    "    x_train = df.iloc[i_train,1:]\n",
    "    x_test = df.iloc[i_test,1:]\n",
    "    y_train = df.iloc[i_train,0]\n",
    "    y_test = df.iloc[i_test,0]\n",
    "\n",
    "    svm = SVC(random_state=42)\n",
    "    svm.fit(x_train, y_train)\n",
    "    preds = svm.predict(x_test)\n",
    "\n",
    "    acc_scores = np.append(acc_scores, accuracy_score(y_test, preds))\n",
    "    precision_scores = np.append(precision_scores, precision_score(y_test, preds))\n",
    "    recall_scores = np.append(recall_scores, recall_score(y_test, preds))\n",
    "    f1_scores = np.append(f1_scores, f1_score(y_test, preds))\n",
    "\n",
    "print(f\"{np.mean(acc_scores):.2%}\")\n",
    "print(f\"{np.mean(precision_scores):.2%}\")\n",
    "print(f\"{np.mean(recall_scores):.2%}\")\n",
    "print(f\"{np.mean(f1_scores):.2%}\")"
   ],
   "metadata": {
    "collapsed": false,
    "pycharm": {
     "name": "#%%\n"
    }
   }
  },
  {
   "cell_type": "code",
   "execution_count": 12,
   "outputs": [
    {
     "data": {
      "text/plain": "<Figure size 432x288 with 2 Axes>",
      "image/png": "[encoded data removed]"
     },
     "metadata": {
      "needs_background": "light"
     },
     "output_type": "display_data"
    }
   ],
   "source": [
    "plot_confusion_matrix(confusion_matrix(y_test, preds), ['failure', 'success'])\n",
    "plt.savefig('cm_svm.png', dpi=300, bbox_inches = 'tight', pad_inches=0)"
   ],
   "metadata": {
    "collapsed": false,
    "pycharm": {
     "name": "#%%\n"
    }
   }
  },
  {
   "cell_type": "code",
   "execution_count": 13,
   "outputs": [],
   "source": [
    "# x_train, x_test, y_train, y_test = train_test_split(\n",
    "#     df.loc[:, df.columns!='success'], df['success'],\n",
    "#     stratify=df['success'], train_size=0.8, random_state=42\n",
    "# )\n",
    "#\n",
    "# print(x_train.shape, x_test.shape)"
   ],
   "metadata": {
    "collapsed": false,
    "pycharm": {
     "name": "#%%\n"
    }
   }
  },
  {
   "cell_type": "code",
   "execution_count": 14,
   "outputs": [],
   "source": [
    "# rfecv_scores = []\n",
    "# for i in range(df.columns.shape[0] - 1):\n",
    "#     lrm = LogisticRegression()\n",
    "#     rfecv = RFECV(estimator=lrm,\n",
    "#                   cv=StratifiedKFold(5, shuffle=True, random_state=42),\n",
    "#                   scoring='accuracy',\n",
    "#                   min_features_to_select=i+1)\n",
    "#     fit = rfecv.fit(df.iloc[:,1:], df.iloc[:,0])\n",
    "#     rfecv_scores.append(fit.grid_scores_.max())\n",
    "#     print(i+1, f\"{rfecv_scores[-1]:.2%}\")\n",
    "    # if fit.grid_scores_.max() > max_accuracy:\n",
    "    #     max_accuracy = fit.grid_scores_.max()\n",
    "    #     print(i+1, f\"{max_accuracy:.2%}\")"
   ],
   "metadata": {
    "collapsed": false,
    "pycharm": {
     "name": "#%%\n"
    }
   }
  },
  {
   "cell_type": "code",
   "execution_count": 15,
   "outputs": [
    {
     "name": "stdout",
     "output_type": "stream",
     "text": [
      "74.07%\n"
     ]
    }
   ],
   "source": [
    "lrm = LogisticRegression()\n",
    "rfecv = RFECV(estimator=lrm,\n",
    "              cv=StratifiedKFold(5, shuffle=True, random_state=42),\n",
    "              scoring='accuracy',\n",
    "              min_features_to_select=6)\n",
    "fit = rfecv.fit(df.iloc[:,1:], df.iloc[:,0])\n",
    "print(f\"{fit.grid_scores_.max():.2%}\")"
   ],
   "metadata": {
    "collapsed": false,
    "pycharm": {
     "name": "#%%\n"
    }
   }
  },
  {
   "cell_type": "code",
   "execution_count": 16,
   "outputs": [
    {
     "data": {
      "text/plain": "array(['overallrating', 'socialMedia', 'country_CHINA', 'country_BELARUS',\n       'platform_OMNI', 'platform_BITSHARES'], dtype=object)"
     },
     "execution_count": 16,
     "metadata": {},
     "output_type": "execute_result"
    }
   ],
   "source": [
    "selected_features = np.array(df.iloc[:,1:].columns)[fit.support_]\n",
    "selected_features"
   ],
   "metadata": {
    "collapsed": false,
    "pycharm": {
     "name": "#%%\n"
    }
   }
  },
  {
   "cell_type": "code",
   "execution_count": 17,
   "outputs": [
    {
     "name": "stdout",
     "output_type": "stream",
     "text": [
      "74.38%\n",
      "77.34%\n",
      "75.86%\n",
      "76.57%\n"
     ]
    }
   ],
   "source": [
    "acc_scores = np.array([])\n",
    "precision_scores = np.array([])\n",
    "recall_scores = np.array([])\n",
    "f1_scores = np.array([])\n",
    "\n",
    "cv = StratifiedKFold(n_splits=5, shuffle=True, random_state=42)\n",
    "for i_train, i_test in cv.split(df.iloc[:,1:], df.iloc[:,0]):\n",
    "    x_train = df.loc[i_train,selected_features]\n",
    "    x_test = df.loc[i_test,selected_features]\n",
    "    y_train = df.iloc[i_train,0]\n",
    "    y_test = df.iloc[i_test,0]\n",
    "\n",
    "    lrm = LogisticRegression()\n",
    "    lrm.fit(x_train, y_train)\n",
    "    preds = lrm.predict(x_test)\n",
    "\n",
    "    acc_scores = np.append(acc_scores, accuracy_score(y_test, preds))\n",
    "    precision_scores = np.append(precision_scores, precision_score(y_test, preds))\n",
    "    recall_scores = np.append(recall_scores, recall_score(y_test, preds))\n",
    "    f1_scores = np.append(f1_scores, f1_score(y_test, preds))\n",
    "\n",
    "print(f\"{np.mean(acc_scores):.2%}\")\n",
    "print(f\"{np.mean(precision_scores):.2%}\")\n",
    "print(f\"{np.mean(recall_scores):.2%}\")\n",
    "print(f\"{np.mean(f1_scores):.2%}\")"
   ],
   "metadata": {
    "collapsed": false,
    "pycharm": {
     "name": "#%%\n"
    }
   }
  },
  {
   "cell_type": "code",
   "execution_count": 18,
   "outputs": [
    {
     "data": {
      "text/plain": "<Figure size 432x288 with 2 Axes>",
      "image/png": "[encoded data removed]"
     },
     "metadata": {
      "needs_background": "light"
     },
     "output_type": "display_data"
    }
   ],
   "source": [
    "plot_confusion_matrix(confusion_matrix(y_test, preds), ['failure', 'success'])\n",
    "plt.savefig('cm_lrm_fs.png', dpi=300, bbox_inches = 'tight', pad_inches=0)"
   ],
   "metadata": {
    "collapsed": false,
    "pycharm": {
     "name": "#%%\n"
    }
   }
  }
 ],
 "metadata": {
  "kernelspec": {
   "display_name": "Python 3",
   "language": "python",
   "name": "python3"
  },
  "language_info": {
   "codemirror_mode": {
    "name": "ipython",
    "version": 2
   },
   "file_extension": ".py",
   "mimetype": "text/x-python",
   "name": "python",
   "nbconvert_exporter": "python",
   "pygments_lexer": "ipython2",
   "version": "2.7.6"
  }
 },
 "nbformat": 4,
 "nbformat_minor": 0
}